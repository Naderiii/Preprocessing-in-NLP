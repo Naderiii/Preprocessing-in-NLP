{
 "cells": [
  {
   "cell_type": "markdown",
   "metadata": {},
   "source": [
    "### Install requirements"
   ]
  },
  {
   "cell_type": "code",
   "execution_count": 2,
   "metadata": {},
   "outputs": [],
   "source": [
    "# ! pip install nltk\n",
    "# ! pip install pandas\n",
    "# ! pip install autocorrect "
   ]
  },
  {
   "cell_type": "markdown",
   "metadata": {},
   "source": [
    "### Import libraries"
   ]
  },
  {
   "cell_type": "code",
   "execution_count": 3,
   "metadata": {},
   "outputs": [],
   "source": [
    "import pandas as pd\n",
    "import nltk\n",
    "import re"
   ]
  },
  {
   "cell_type": "markdown",
   "metadata": {},
   "source": [
    "### Load Data"
   ]
  },
  {
   "cell_type": "code",
   "execution_count": 5,
   "metadata": {},
   "outputs": [
    {
     "data": {
      "text/html": [
       "<div>\n",
       "<style scoped>\n",
       "    .dataframe tbody tr th:only-of-type {\n",
       "        vertical-align: middle;\n",
       "    }\n",
       "\n",
       "    .dataframe tbody tr th {\n",
       "        vertical-align: top;\n",
       "    }\n",
       "\n",
       "    .dataframe thead th {\n",
       "        text-align: right;\n",
       "    }\n",
       "</style>\n",
       "<table border=\"1\" class=\"dataframe\">\n",
       "  <thead>\n",
       "    <tr style=\"text-align: right;\">\n",
       "      <th></th>\n",
       "      <th>0</th>\n",
       "    </tr>\n",
       "  </thead>\n",
       "  <tbody>\n",
       "    <tr>\n",
       "      <th>0</th>\n",
       "      <td>my teachers seeing me submit my assignment at ...</td>\n",
       "    </tr>\n",
       "    <tr>\n",
       "      <th>1</th>\n",
       "      <td>My uncle just got married. My uncle just got m...</td>\n",
       "    </tr>\n",
       "    <tr>\n",
       "      <th>2</th>\n",
       "      <td>This is sad. The story of this girls break up....</td>\n",
       "    </tr>\n",
       "    <tr>\n",
       "      <th>3</th>\n",
       "      <td>How much reddit karma is considered a lot? Two...</td>\n",
       "    </tr>\n",
       "    <tr>\n",
       "      <th>4</th>\n",
       "      <td>cat attack my cat decided to jump out from und...</td>\n",
       "    </tr>\n",
       "  </tbody>\n",
       "</table>\n",
       "</div>"
      ],
      "text/plain": [
       "                                                   0\n",
       "0  my teachers seeing me submit my assignment at ...\n",
       "1  My uncle just got married. My uncle just got m...\n",
       "2  This is sad. The story of this girls break up....\n",
       "3  How much reddit karma is considered a lot? Two...\n",
       "4  cat attack my cat decided to jump out from und..."
      ]
     },
     "execution_count": 5,
     "metadata": {},
     "output_type": "execute_result"
    }
   ],
   "source": [
    "df = pd.read_csv(\"Social_Media_Dataset.csv\", header=None)\n",
    "df.head()"
   ]
  },
  {
   "cell_type": "code",
   "execution_count": 9,
   "metadata": {},
   "outputs": [
    {
     "data": {
      "text/plain": [
       "\"                                                                                                                                                                                                                                                                                                                                                                                                                                                   0\\n0                                                                                                                                                                                                                                                          my teachers seeing me submit my assignment at 3am again: 👁️👄👁️ i wonder if my teachers are silently judging me :/\\\\n\\\\n\\\\n\\\\n&amp;#x200B;\\\\n\\\\n\\\\n\\\\nfiller filter flicker snicker bicker clicker\\n1                                                                                                                                                                                                               My uncle just got married. My uncle just got married to a beautiful wife and I would like to present him with something. I couldn’t think of anything else but to tell you guys. Congratulations Uncle Jeremy! I’m so happy for you!\\n2                                                                                                                                                                                                     This is sad. The story of this girls break up. https://www.reddit.com/r/Advice/comments/jco47r/im_only_13_and_im_being_stressed_over_some_stupid/?utm_medium=android_app&amp;utm_source=share\\\\n\\\\n\\\\n\\\\nI dont need any karma, go and suport her.\\n3                                                                                                                                                                                                            How much reddit karma is considered a lot? Two days ago marked my 1 year anniversary of being on reddit. And in that time I have accumulated a bit more than 80,000 karma. So I was just wondering, how much karma is considered a lot?\\n4                                                                                                                                                                                                            cat attack my cat decided to jump out from underneath a chair and attack me he barely even scratched me but my cat is annoying his name is Eddy/Edmond he's always surprising us because most of the time he's super friendly fun times\\n5                                                                                                                                                                                                             The first YouTube video was made closer to 1989 than it was to today Look at the months. It has been 15 years and 5 months since the video was made, and back then the video was made 15 years and 4 months away from December of 1989\\n6                                                                                                                                                                                                       Why do Chinese people speak Chinese when it is very difficult? They should just learn and easier language like English or Spanish. They speak like 8 languages in China but I won't list them.\\\\n\\\\n\\\\n\\\\nEdit : actually they speak a lot more.\\n7                                                                                                                                                                                                                                                                                                                             Ok who should I draw a portrait of I'm bored and need inspiration so yeah. Idk, ig I'll pick my favorite and draw that\\n8                                                                                                                                                                                                                                                                                                                             Can you recommend me any music to listen to So I'm bored and can't fall asleep do you guys know any good songs, bands?\\n9                                                                                                                                                                                                                                                                                                                               I tried saying can i get 1mil subs for no reason and got a lot of hate, boy it’s a joke https://youtu.be/exobRyhH5fg\\n10                                                                                                                                                                                                                                                                                                                             Are you guys allowed to switch off your cameras during online class? Because I'm not Maybe it's an American thing idk\\n11                                                                                                                                                                                                                                                                                                                             To anyone here who is worried about college remember one thing If Kaitlyn Bennett can get through college you can too\\n12                                                                                                                                                                                                                                                                                                                             I finally did it!! After a year with my Learner's Permit, I finally took the Driver's License test today and passed!!\\n13                                                                                                                                                                                                                                                                                                                          Reddit costs $1.8 billion If we raise the money we can buy Reddit to make things crash quicker\\\\n\\\\nPlease spread the news\\n14                                                                                                                                                                                                                                                                                                                     God the princess and the frog is such an         underrated Disney princess movie Probably my favorite Disney princess movies\\n15                                                                                                                                                                                                                                                                                                                          If you want to feel wanted by someone Just rob a bankkkk, now the whole police will be looking for you. Works everytime.\\n16                                                                                                                                                                                                                                                                                                                                                                                    why are you all so depressed Stop being depressed just be hapy\\n17                                                                                                                                                                                                                                                                                                                              Draw with me part 2 [https://r7.whiteboardfox.com/7691988-9928-1785](https://r7.whiteboardfox.com/7691988-9928-1785)\\n18                                                                                                                                                                                                                                                                                                                              Why do people hate British uniforms? They all look so pretty, I don't understand why people think that they're ugly.\\n19                                                                                                                                                                                                                                                                                                                             How do i join minecraft serves through my ps4? I recently bought minecraft so don't know \\\\nAlso is ps plus necessary?\\n20                                                                                                                                                                                                                                                                                                                               I got an A for writing an essay on a book I didn't read. It was an in clas write so I only had 55 minutes to do it.\\n21                                                                                                                                                                                                                                                                                                                        Yo let's chat, hmu if you are interested Tryna make some friiiieeeennndddsssssssssssssssssssssssssss\\\\n\\\\n\\\\n\\\\nAlso I'm bored\\n22                                                                                                                                                                                                                                                                         Why does the thought of dieing make me hapy?I have a pllan. it's going to happen. If i wasn't waiting on something I would go right now. Why do these thoughts excite me?\\n23                                                                                                                                                                                                                                  i'm still alive, but I'm deleting my Reddit tomorrowthanks for all the kind messages and all, but this place is too fucking toxic to continue being here. if u wanna talk to me, I have discord: aquamarine#3232\\n24                                                                                                                                                                                                                                                                                                                                 Writing something positive about my day, day #261 I slept for a while the night before so I wasn’t as tired today\\n25                                                                                                                                                                                                                                                                                                                               Fun Fact: You are never not using your skeleton #  #  #  #  #  #  #  #  #  #  #  #  #  #  #  #  #  #  #  #  #  #  #\\n26                                                                                                                                                                                                                                                                                                                             It’s not even 5 yet and it’s dark outside WHYYYYYY\\\\n\\\\n\\\\n\\\\nThis is getting ridiculous. The sun needs to stop slacking.\\n27                                                                                                                                                                                                                                                                                                                   I am listening to songs..... SDCARD/Music/Hans Zimmer/Inception/Mombasa.wav\\\\n\\\\n\\\\n\\\\n\\\\n\\\\n\\\\n\\\\nWith Surround Sound ON on SoundAlive\\n28                                                                                                                                                                                                                                                                                                                                Is it just me... That has thoughts about cringy/embarrassing alternate scenarios that almost hapened in your life?\\n29                                                                                                                                                                                                                                                                                                                                 Name Your Mood And I’ll Recommend A Song Will try to pick a song that you will enjoy based on your mood. Enjoy :)\\n30                                                                                                                                                                                                                                                                                                                             Whats a #song you can recommend to everyone No matter what #genre they like, what song can you recommend to everyone?\\n31                                                                                                                                                                                                                                                                                                       How do I change my iOS 14 app logos to my own photos? I’m being honestly I do not know how to change my app logos           #heeelllllppppp\\n32                                                                                                                                                                                                                                                                                                                         Spicy fried chicken &gt;&gt;&gt;&gt;&gt; the spice, the tender meat, the aroma\\\\n\\\\n\\\\n\\\\neverything about it is just so good\\n33                                                                                                                                                                                                                                                                                                                                                                S.T.A.L.K.E.R., Metro, or Fallout? I just want to hear your opiniuns on the games.\\n34                                                                                                                                                                                                                                                                                                                                                                    Funniest comment gets free “helpful” award because I really need to laugh... E\\n35                                                                                                                                                                                                                                                                                                                                                                Lalalalalalalalalalalalalalalalalalalalalalala BRBRBRBRBRBRBRBRBRBRBRBRBRBRBRBRBRB\\n36                                                                                                                                                                                                                                                                                                                                                                              I dont like emojis But i can make exceptions for this ones\\\\n\\\\n🚹🕎🔯♻️🧼\\n37                                                                                                                                                                                                                                                                                                                                                           WILLIAMS' GOT AN INVESTMENT!! I don't know about investments but\\\\n\\\\n\\\\n\\\\nGO WILLIAMS GO.\\n38                                                                                                                                                                                                                                                                                                                                                                 u/coolstarfish55 is my favorite redditor u/coolstarfish55 is my favorite redditor\\n39                                                                                                                                                                                                                                                                                                                                                                 Now I'll be the best user of teenagers And my competitors will be turned to stone\\n40                                                                                                                                                                                                                                                                     methodsjust a purely theoretic discussion about the easiest ways out. what would be your prefered way? with the least impact to your family and least destruction of body? \\\\n\\n41                                                                                                                                                                                                                                         Sleeping pillsHow to kill myself most effectively using sleeping pills and alcohol (like vodka)? I don't want to end up being a vegetable. Only that holds me back, that's why I'm asking you my friends.\\n42                          someone please, please tell me not toim not a good person and i want it to stop i want itt o stop so b ad but i'm scared of what would happen but i just want it over i don't know what to do. i hurt my friends and t hey stalked me but it was my fault in the first plae c and all they saw was lies lies lies lies lies . about Them\\\\n\\\\n\\\\n\\\\ni don't think g-d wants me here anymore. i think im supposed to be  gone\\n43                                                                                                                                                                                                                                                           Have 60 - 1mg Xanax. Thinking about taking them all. Don't know why I'm even postingIt's all too much. It hurts everyday. My sleep is only when I have peace. I just want that forever.\\n44                                                                                                                                                                                                                                                                                                                                                                 Day one of posting until something interesting happens Qwertyyiopasdfghjklzxcvbnm\\n45                                                                                                                                                                                                                                                                                                                                                                Guess who can't sleep again How am I supposed to die in my sleep if I can't sleep?\\n46                                                                                                                                                                                                                                                                                                                                                             I don't think I'll do itIt's awfully temping though. Just going through a rough patch\\n47                  I see no reason to be here, no one actually loves, everyone is just faking caring about me.No one actually cares to listen and understand me.\\\\n\\\\nIm at fault of everything, nothing is reversable. Nothing makes me happy absolutely nothing.\\\\n\\\\nI have a plan to go outside the city and hang myself on a tree. I even picked a specific tree, its easy to climb has a place to tie a rope, and thick enough to hold my weight.\\n48  I have very few reasons left to be here. Here's some to not.1) My year and a half long relationship just ended \\\\n\\\\n2) People.think im taking/lying about being suicidal. \\\\n\\\\n3) Family is splitting up\\\\n\\\\n4) Sexual assault\\\\n\\\\n5) School sucks\\\\n\\\\n\\\\n\\\\nIf anyone can talk?? At all??? Im so close. I want it to either go away or I'll make it go away. I'm in therapy. On meds (kinda) gone to my last resorts a few times (police and hospital)\\n49                                                                                                                                                                                                                                                                                                                                                                I FINALLY TOLD MY CRUSH I LIKED HIM AND HE LIKES ME BACK!!! IM SUPER HAPPY :DDDDDD\""
      ]
     },
     "execution_count": 9,
     "metadata": {},
     "output_type": "execute_result"
    }
   ],
   "source": [
    "data = df.to_string() \n",
    "data"
   ]
  },
  {
   "cell_type": "markdown",
   "metadata": {},
   "source": [
    "### Preprocessing"
   ]
  },
  {
   "cell_type": "markdown",
   "metadata": {},
   "source": [
    "#### Data Cleaning Steps"
   ]
  },
  {
   "cell_type": "markdown",
   "metadata": {},
   "source": [
    "**a. Remove newlines and Tabs**"
   ]
  },
  {
   "cell_type": "code",
   "execution_count": null,
   "metadata": {},
   "outputs": [],
   "source": []
  },
  {
   "cell_type": "markdown",
   "metadata": {},
   "source": [
    "**b. Remove Punctuation/ Unicode characters/ Special Characters**"
   ]
  },
  {
   "cell_type": "markdown",
   "metadata": {},
   "source": [
    "Before processing the text, we must remove the extra, non-semantic and non-informative characters in the sentence. These characters are digits, white spaces, and others non-informative characters like {, }, =, @, &, %, $, ^, <, >, !, ?, ;, \\n, \\t, (, ."
   ]
  },
  {
   "cell_type": "markdown",
   "metadata": {},
   "source": [
    "we done the following steps in this section of data cleaning\n",
    "\n",
    "* unicode characters\n",
    "* remove URLs\n",
    "* remove HTML tags\n",
    "* unwanted digits\n",
    "* spacial caracters and Punctuations"
   ]
  },
  {
   "cell_type": "markdown",
   "metadata": {},
   "source": [
    "1.unicode characters"
   ]
  }
 ],
 "metadata": {
  "kernelspec": {
   "display_name": "Python 3",
   "language": "python",
   "name": "python3"
  },
  "language_info": {
   "codemirror_mode": {
    "name": "ipython",
    "version": 3
   },
   "file_extension": ".py",
   "mimetype": "text/x-python",
   "name": "python",
   "nbconvert_exporter": "python",
   "pygments_lexer": "ipython3",
   "version": "3.11.2"
  },
  "orig_nbformat": 4
 },
 "nbformat": 4,
 "nbformat_minor": 2
}
